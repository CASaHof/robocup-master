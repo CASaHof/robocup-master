{
 "cells": [
  {
   "attachments": {},
   "cell_type": "markdown",
   "metadata": {},
   "source": [
    "# Initialize Environment and load model"
   ]
  },
  {
   "cell_type": "code",
   "execution_count": 4,
   "metadata": {},
   "outputs": [],
   "source": [
    "from ultralytics import YOLO\n",
    "from yt_dlp import YoutubeDL\n",
    "from os.path import exists\n",
    "\n",
    "\n",
    "model = YOLO('./best.pt')  # load an official detection model"
   ]
  },
  {
   "attachments": {},
   "cell_type": "markdown",
   "metadata": {},
   "source": [
    "For more Box information, visit\n",
    "https://docs.ultralytics.com/modes/predict/?h=boxes#boxes"
   ]
  },
  {
   "attachments": {},
   "cell_type": "markdown",
   "metadata": {},
   "source": [
    "Downloading YouTube Video"
   ]
  },
  {
   "cell_type": "code",
   "execution_count": 5,
   "metadata": {},
   "outputs": [],
   "source": [
    "youtube_id = \"4_BWQl91p9Y\""
   ]
  },
  {
   "cell_type": "code",
   "execution_count": null,
   "metadata": {},
   "outputs": [],
   "source": [
    "if \"youtube_id\" in locals() and youtube_id!=\"\":\n",
    "    file_exists = exists(\"./\"+youtube_id+\".mp4\")\n",
    "    if not file_exists:\n",
    "        print(f\"Downloading {youtube_id}\")\n",
    "        ydl_opts = {\n",
    "            \"outtmpl\": youtube_id+\".mp4\"\n",
    "        }\n",
    "        with YoutubeDL(ydl_opts) as ydl:\n",
    "            ydl.download(['https://www.youtube.com/watch?v='+youtube_id])\n",
    "    else:\n",
    "        print(f\"{youtube_id} already existing.\")\n",
    "else:\n",
    "    print(\"No youtube_id given!\")"
   ]
  },
  {
   "cell_type": "code",
   "execution_count": null,
   "metadata": {},
   "outputs": [],
   "source": [
    "results = model(source=f\"{youtube_id}.mp4\", show=True, stream=True) \n",
    "for result in results:\n",
    "   boxes = result.boxes  # Boxes object for bbox outputs\n",
    "   for idx,c in enumerate(result.boxes.cls):\n",
    "    if result.names[int(c)]==\"robot\":\n",
    "        print(f\"c={c} ({result.names[int(c)]}) {boxes.xyxy[idx]}\")\n",
    "#    result={0: 'ball', 1: 'centercircle', 2: 'goal', 3: 'line', 4: 'penaltycross', 5: 'robot'}\n",
    "#    print(f\"result={result.names}\")\n",
    "#    print(f\"boxes={boxes.xyxy[0]}\")\n"
   ]
  }
 ],
 "metadata": {
  "kernelspec": {
   "display_name": "Python 3",
   "language": "python",
   "name": "python3"
  },
  "language_info": {
   "codemirror_mode": {
    "name": "ipython",
    "version": 3
   },
   "file_extension": ".py",
   "mimetype": "text/x-python",
   "name": "python",
   "nbconvert_exporter": "python",
   "pygments_lexer": "ipython3",
   "version": "3.9.13"
  },
  "orig_nbformat": 4
 },
 "nbformat": 4,
 "nbformat_minor": 2
}
